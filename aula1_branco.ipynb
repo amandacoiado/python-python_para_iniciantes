{
  "cells": [
    {
      "cell_type": "markdown",
      "id": "44b8e216",
      "metadata": {},
      "source": [
        "# **Python para iniciantes**\n",
        "\n",
        "## **Aula 1 - Tipos de objetos - Parte 1**\n",
        "\n",
        "por Amanda Ramos Coiado\n",
        "\n",
        "18/06/2025"
      ]
    },
    {
      "cell_type": "markdown",
      "id": "1de16ace-9527-4843-a9b9-cfb8e89b4ce3",
      "metadata": {},
      "source": [
        "## Documentação:\n",
        "\n",
        "https://docs.python.org/pt-br/3/tutorial/ (em português)\n",
        "\n",
        "https://www.w3schools.com/python/default.asp (em inglês)"
      ]
    },
    {
      "cell_type": "markdown",
      "id": "a5a7897e",
      "metadata": {},
      "source": [
        "# O que são objetos em Python?\n",
        "\n",
        "Python é uma linguagem de programação orientada a objetos, o que significa que ela permite criação e utilização de objetos via código. Objetos são como caixas ou gavetas que podem guardar informações. Eles são criados a partir de modelos chamados classes, sendo que cada classe tem características próprias e atendem a determinados objetivos.\n",
        "\n",
        "Usar objetos ajuda a organizar o código e reutilizar partes dele, tornando o programa mais fácil de entender e modificar.\n",
        "\n",
        "Em Python, variáveis são referências a objetos. Isso significa que, quando você cria uma variável e atribui um valor a ela, você está, na verdade, criando um objeto e a variável passa a referenciar esse objeto, como se fosse a identificação ou a etiqueta daquela \"gaveta\", para que você possa acessá-la, utilizar e atualizar seu conteúdo em vários momentos do código.\n",
        "\n",
        "Em Python, você cria variáveis simplesmente dando um nome a um valor. Por exemplo, quando você faz:\n",
        "\n",
        "    x = 10\n",
        "\n",
        "Você está criando um objeto do tipo inteiro com o valor 10 e a variável x está referenciando esse objeto. Em Python, tudo é um objeto, incluindo tipos primitivos como inteiros, strings e listas. Portanto, variáveis são uma maneira de acessar esses objetos.\n",
        "\n",
        "Para saber mais sobre variáveis, assista ao vídeo [Introdução à programação: variáveis](https://www.youtube.com/watch?v=c4sIJergG2c)."
      ]
    },
    {
      "cell_type": "markdown",
      "id": "f66f7370",
      "metadata": {},
      "source": [
        "# Tipos de objetos em Python"
      ]
    },
    {
      "cell_type": "markdown",
      "id": "ffc4503f",
      "metadata": {},
      "source": [
        "Em Python, existem vários tipos de objetos que podem ser usados para armazenar e manipular dados. Aqui estão alguns dos principais tipos de objetos em Python:\n",
        "\n",
        "1) Números:\n",
        "    - inteiro\n",
        "    - ponto flutuante\n",
        "\n",
        "2) Sequências:\n",
        "    - string\n",
        "    - lista\n",
        "    - tupla\n",
        "\n",
        "3) Mapeamentos:\n",
        "    - dicionários\n",
        "\n",
        "4) Booleanos (bool): verdadeiro ou falso\n",
        "\n",
        "5) None: de valor ou um valor nulo."
      ]
    },
    {
      "cell_type": "markdown",
      "id": "8c0e6dd2",
      "metadata": {},
      "source": [
        "## Números\n",
        "\n",
        "Os objetos do tipo numérico em python representam quantidades e métricas e permitem realizar operações matemáticas diversas. Desde operações básicas (soma, subtração, multiplicação e divisão) até análises estatísticas e modelos matemáticos. \n",
        "\n",
        "Além disso, os números podem ser utilizados em estruturas lógicas condicionais (se/então/senão) e de controle como os loops, tornando-se essenciais na programação."
      ]
    },
    {
      "cell_type": "markdown",
      "id": "fc93173b",
      "metadata": {},
      "source": [
        "## Números inteiros\n",
        "\n",
        "Formato: **int**\n",
        "\n",
        "Em Python, o tipo de dado **int** representa números inteiros, ou seja, valores sem casas decimais. \n",
        "\n",
        "Esse formato inclui tanto números positivos quanto negativos, como 1, 2 e -5.\n",
        "\n",
        "Exemplos de valores inteiros:\n",
        "- 1\n",
        "- 2\n",
        "- -5"
      ]
    },
    {
      "cell_type": "code",
      "execution_count": 1,
      "id": "7ae60df2",
      "metadata": {
        "trusted": true
      },
      "outputs": [],
      "source": [
        "# definindo uma variável numérica chamada num1\n"
      ]
    },
    {
      "cell_type": "code",
      "execution_count": 2,
      "id": "375b0762",
      "metadata": {
        "trusted": true
      },
      "outputs": [],
      "source": [
        "# consultando o tipo: type()\n"
      ]
    },
    {
      "cell_type": "code",
      "execution_count": 3,
      "id": "5eaf3ab6",
      "metadata": {},
      "outputs": [],
      "source": [
        "# posso usar números negativos também\n"
      ]
    },
    {
      "cell_type": "code",
      "execution_count": 4,
      "id": "fe94365c",
      "metadata": {},
      "outputs": [],
      "source": [
        "# podemos fazer cálculos com variáveis numéricas\n"
      ]
    },
    {
      "cell_type": "code",
      "execution_count": 5,
      "id": "862fea1b",
      "metadata": {},
      "outputs": [],
      "source": [
        "# substituindo pelas variáveis\n"
      ]
    },
    {
      "cell_type": "code",
      "execution_count": 6,
      "id": "044ea08e",
      "metadata": {},
      "outputs": [],
      "source": [
        "# corrigindo: 5 + (-7)\n"
      ]
    },
    {
      "cell_type": "markdown",
      "id": "9c02135b",
      "metadata": {},
      "source": [
        "## Números de ponto flutuante\n",
        "\n",
        "Formato: **float**\n",
        "\n",
        "O tipo float em Python representa números de ponto flutuante, ou seja, valores que possuem casas decimais, como 3.14, 2.0 e -1.5. \n",
        "\n",
        "Um detalhe importante é que o separador de casas decimais em python é o ponto (.). Não se usa virgula em números, pois a vírgula tem outra função em python, que veremos mais a diante.\n",
        "\n",
        "Exemplos de valores: \n",
        "- 3.14\n",
        "- 2.0\n",
        "- -1.5"
      ]
    },
    {
      "cell_type": "code",
      "execution_count": 7,
      "id": "b12f8224",
      "metadata": {
        "trusted": true
      },
      "outputs": [],
      "source": [
        "# definindo variável float (com casas decimais) chamada num2\n"
      ]
    },
    {
      "cell_type": "code",
      "execution_count": 8,
      "id": "bf4c9f1f",
      "metadata": {
        "trusted": true
      },
      "outputs": [],
      "source": [
        "# consultando o tipo: type()\n"
      ]
    },
    {
      "cell_type": "code",
      "execution_count": 9,
      "id": "04464fc1",
      "metadata": {
        "trusted": true
      },
      "outputs": [],
      "source": [
        "# realizando operações: soma\n"
      ]
    },
    {
      "cell_type": "code",
      "execution_count": 10,
      "id": "09c5479f",
      "metadata": {
        "trusted": true
      },
      "outputs": [],
      "source": [
        "# realizando operações: subtração\n"
      ]
    },
    {
      "cell_type": "code",
      "execution_count": 11,
      "id": "68d5f636",
      "metadata": {
        "trusted": true
      },
      "outputs": [],
      "source": [
        "# realizando operações: multiplicação\n"
      ]
    },
    {
      "cell_type": "code",
      "execution_count": 12,
      "id": "180c2cf2",
      "metadata": {
        "trusted": true
      },
      "outputs": [],
      "source": [
        "# realizando operações: divisão\n"
      ]
    },
    {
      "cell_type": "code",
      "execution_count": 13,
      "id": "3d02f5e8",
      "metadata": {
        "trusted": true
      },
      "outputs": [],
      "source": [
        "# arredondar para duas casas decimais: round(número, dígitos)\n"
      ]
    },
    {
      "cell_type": "code",
      "execution_count": 14,
      "id": "a357ea72",
      "metadata": {
        "trusted": true
      },
      "outputs": [],
      "source": [
        "# imprimir a resposta: print()\n"
      ]
    },
    {
      "cell_type": "markdown",
      "id": "06b9a7c7",
      "metadata": {},
      "source": [
        "# Sequências\n",
        "\n",
        "Em Python, sequências são tipos de dados que armazenam uma coleção ordenada de itens. Esses itens podem ser de qualquer tipo, como números, strings ou textos, ou ainda outros objetos. As sequências permitem acessar e manipular os itens individuais usando índices.\n",
        "\n",
        "Existem vários tipos de sequências em Python, incluindo strings, listas, tuplas e dicionários.\n",
        "\n",
        "Esses tipos de sequências são fundamentais para a manipulação de dados em Python e oferecem uma variedade de métodos e operações para facilitar o trabalho com coleções de itens. "
      ]
    },
    {
      "cell_type": "markdown",
      "id": "b5fb3db5",
      "metadata": {},
      "source": [
        "## Strings\n",
        "\n",
        "Formato: **str** \n",
        "\n",
        "Strings são sequências de caracteres, como:\n",
        "- \"Olá\"\n",
        "- \"mundo\"\n",
        "- \"Olá, mundo!\"\n",
        "\n",
        "Elas podem ser delimitadas por aspas simples 'a' ou duplas \"a\", desde que você utilize o mesmo formato para delimitar o início e o fim da sequência de caracteres. \n",
        "    \n",
        "    Exemplo:\n",
        "        texto1 = 'Se eu utilizei aspas simples para delimitar o início do texto, posso utilizar \"aspas duplas\" dentro do conteúdo da variável, pois o término somente será sinalizado por outra aspas simples'\n",
        "\n",
        "As strings também podem conter números e/ou caracteres especiais, porém tudo que estiver contido entre as aspas é considerado texto, ou seja, sem propriedades matemáticas ou de cálculos.\n",
        "\n",
        "As variáveis do tipo string são consideradas sequências em Python pois são tratadas como uma lista de caracteres com possibilidade de iteração."
      ]
    },
    {
      "cell_type": "code",
      "execution_count": 15,
      "id": "ecebb466",
      "metadata": {
        "trusted": true
      },
      "outputs": [],
      "source": [
        "# definindo uma variável de texto chamada nome\n"
      ]
    },
    {
      "cell_type": "code",
      "execution_count": 16,
      "id": "d28be8c2",
      "metadata": {
        "trusted": true
      },
      "outputs": [],
      "source": [
        "# consultar tipo: type()\n"
      ]
    },
    {
      "cell_type": "code",
      "execution_count": 17,
      "id": "dd7f4054",
      "metadata": {
        "trusted": true
      },
      "outputs": [],
      "source": [
        "# consultar tamanho: len()\n"
      ]
    },
    {
      "cell_type": "code",
      "execution_count": 18,
      "id": "8c15a96d",
      "metadata": {
        "trusted": true
      },
      "outputs": [],
      "source": [
        "# iterando e fatiando a sequência de caracteres\n",
        "#primeiro caracter\n"
      ]
    },
    {
      "cell_type": "code",
      "execution_count": 19,
      "id": "71f138b8",
      "metadata": {
        "trusted": true
      },
      "outputs": [],
      "source": [
        "# primeiro ao 4º caracter\n"
      ]
    },
    {
      "cell_type": "code",
      "execution_count": 20,
      "id": "75c4faae",
      "metadata": {
        "trusted": true
      },
      "outputs": [],
      "source": [
        "# 5º caracter até o último\n"
      ]
    },
    {
      "cell_type": "code",
      "execution_count": 21,
      "id": "fc94b672",
      "metadata": {
        "trusted": true
      },
      "outputs": [],
      "source": [
        "# último caracter\n"
      ]
    },
    {
      "cell_type": "code",
      "execution_count": 22,
      "id": "79545430",
      "metadata": {
        "trusted": true
      },
      "outputs": [],
      "source": [
        "# dois últimos caracteres\n"
      ]
    },
    {
      "cell_type": "code",
      "execution_count": 23,
      "id": "8e5b2851",
      "metadata": {
        "trusted": true
      },
      "outputs": [],
      "source": [
        "# obter valores: input()\n",
        "# atribuir para uma variável chamada nome_completo\n",
        "# no lablite, utilize await input()\n"
      ]
    },
    {
      "cell_type": "code",
      "execution_count": 24,
      "id": "c9a2da19",
      "metadata": {},
      "outputs": [],
      "source": [
        "# 'chamar' a variável para exibir seu conteúdo\n"
      ]
    },
    {
      "cell_type": "code",
      "execution_count": 25,
      "id": "53390b21",
      "metadata": {
        "trusted": true
      },
      "outputs": [],
      "source": [
        "# retornar os dois primeiros e dois últimos caracteres\n"
      ]
    },
    {
      "cell_type": "code",
      "execution_count": 26,
      "id": "ef1b9faa",
      "metadata": {
        "trusted": true
      },
      "outputs": [],
      "source": [
        "# tranformar todos os caracteres em minúsculos: método .lower()\n"
      ]
    },
    {
      "cell_type": "code",
      "execution_count": 27,
      "id": "ddb02ad6",
      "metadata": {
        "trusted": true
      },
      "outputs": [],
      "source": [
        "# tranformar todos os caracteres em maiúsculos: método .upper()\n"
      ]
    },
    {
      "cell_type": "markdown",
      "id": "0cf22b15",
      "metadata": {},
      "source": [
        "## Combinando textos e números"
      ]
    },
    {
      "cell_type": "code",
      "execution_count": 28,
      "id": "d2ffac62",
      "metadata": {
        "trusted": true
      },
      "outputs": [],
      "source": [
        "# imprimir a resposta de uma operação com texto\n",
        "# exemplo 1: print(texto1, texto2, texto3,...)\n"
      ]
    },
    {
      "cell_type": "code",
      "execution_count": 29,
      "id": "f042d344",
      "metadata": {
        "trusted": true
      },
      "outputs": [],
      "source": [
        "# exemplo2: print(f' texto1 {} texto2 {} texto3 {}')\n"
      ]
    },
    {
      "cell_type": "markdown",
      "id": "b4e83be2",
      "metadata": {},
      "source": [
        "## Boolean\n",
        "\n",
        "Formato: **bool**\n",
        "\n",
        "Valores booleanos, em Python, são um tipo de dado que representa um estado lógico verdadeiro ou falso. O tipo de dado booleano é denominado **bool** e possui dois valores possíveis:\n",
        " \n",
        "- **True** (verdadeiro) \n",
        "- **False** (falso).\n",
        "\n",
        "É possível obter valores booleanos por meio de operadores de comparação, como:\n",
        "\n",
        "- **==** (igual a)\n",
        "- **!=** (diferente de)\n",
        "- **>** (maior que)\n",
        "- **<** (menor que)\n",
        "- **>=** (maior ou igual a)\n",
        "- **<=** (menor ou igual a)"
      ]
    },
    {
      "cell_type": "code",
      "execution_count": 30,
      "id": "46ebaf21",
      "metadata": {},
      "outputs": [],
      "source": [
        "# definir variável booleana\n"
      ]
    },
    {
      "cell_type": "code",
      "execution_count": 31,
      "id": "b97e5b19",
      "metadata": {},
      "outputs": [],
      "source": [
        "# verificar o tipo da variável\n"
      ]
    },
    {
      "cell_type": "code",
      "execution_count": 32,
      "id": "7b97a9f5",
      "metadata": {
        "trusted": true
      },
      "outputs": [],
      "source": [
        "# definir duas variáveis numéricas x e y\n"
      ]
    },
    {
      "cell_type": "code",
      "execution_count": 33,
      "id": "377257c6",
      "metadata": {
        "trusted": true
      },
      "outputs": [],
      "source": [
        "# comparação: igual a\n"
      ]
    },
    {
      "cell_type": "code",
      "execution_count": 34,
      "id": "25feb3a0",
      "metadata": {
        "trusted": true
      },
      "outputs": [],
      "source": [
        "# comparação: diferente de\n"
      ]
    },
    {
      "cell_type": "code",
      "execution_count": 35,
      "id": "5e87f394",
      "metadata": {
        "trusted": true
      },
      "outputs": [],
      "source": [
        "# comparação: maior que\n"
      ]
    },
    {
      "cell_type": "code",
      "execution_count": 36,
      "id": "7dbd77f7",
      "metadata": {
        "trusted": true
      },
      "outputs": [],
      "source": [
        "# comparação: menor que\n"
      ]
    },
    {
      "cell_type": "code",
      "execution_count": 37,
      "id": "e608b348",
      "metadata": {
        "trusted": true
      },
      "outputs": [],
      "source": [
        "# comparação: menor ou igual a\n"
      ]
    },
    {
      "cell_type": "markdown",
      "id": "93d0a9f5",
      "metadata": {},
      "source": [
        "## Ausência de valor\n",
        "\n",
        "Formato: **NoneType** \n",
        "\n",
        "O None representa a ausência de valor ou um valor nulo.\n",
        "\n",
        "Ele pode ser usado para garantirmos a existência de uma variável, ainda que ela não tenha um valor ainda, evitando erros durante a execução de funções, por exemplo."
      ]
    },
    {
      "cell_type": "code",
      "execution_count": 38,
      "id": "89983690",
      "metadata": {
        "trusted": true
      },
      "outputs": [],
      "source": [
        "# definir uma lista com vários tipos de dados\n"
      ]
    },
    {
      "cell_type": "code",
      "execution_count": 39,
      "id": "2ae7cb44",
      "metadata": {
        "trusted": true
      },
      "outputs": [],
      "source": [
        "# verificar o tipo da variável\n"
      ]
    },
    {
      "cell_type": "code",
      "execution_count": 40,
      "id": "ce8d1fbd",
      "metadata": {
        "trusted": true
      },
      "outputs": [],
      "source": [
        "# o que acontece quando chamamos a variável?\n"
      ]
    },
    {
      "cell_type": "code",
      "execution_count": null,
      "id": "aa5f1a21-37a9-4c21-a0a7-1f2a955a66b3",
      "metadata": {},
      "outputs": [],
      "source": []
    }
  ],
  "metadata": {
    "kernelspec": {
      "display_name": "Python 3",
      "language": "python",
      "name": "python3"
    },
    "language_info": {
      "codemirror_mode": {
        "name": "ipython",
        "version": 3
      },
      "file_extension": ".py",
      "mimetype": "text/x-python",
      "name": "python",
      "nbconvert_exporter": "python",
      "pygments_lexer": "ipython3",
      "version": "3.13.4"
    }
  },
  "nbformat": 4,
  "nbformat_minor": 5
}
